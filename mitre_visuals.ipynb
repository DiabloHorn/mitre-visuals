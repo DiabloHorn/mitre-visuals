{
  "cells": [
    {
      "cell_type": "markdown",
      "metadata": {
        "id": "feDZDneBbmpR"
      },
      "source": [
        "# Installation\n",
        "\n",
        "There are some libraries that we need and with which the code was tested\n",
        "\n",
        "* **taxii2-client**: To talk to the taxii server\n",
        "* **stix2**: To handle the stix2 encapsulated data\n",
        "* **networkx**: To create and work with graphs\n",
        "* **bokeh**: To visualize graphs"
      ]
    },
    {
      "cell_type": "code",
      "execution_count": null,
      "metadata": {
        "id": "PhcArfvJbNk5"
      },
      "outputs": [],
      "source": [
        "%pip install taxii2-client==2.3.0\n",
        "%pip install stix2==3.0.1\n",
        "%pip install networkx==2.6.3\n",
        "%pip install bokeh==2.3.3\n",
        "%pip install pandas==1.3.5"
      ]
    },
    {
      "cell_type": "markdown",
      "metadata": {
        "id": "nEAvzzZMbwHZ"
      },
      "source": [
        "# Setup\n",
        "\n",
        "We lower the debugging level to only show critical messages.\n",
        "We use the following URL to work with:\n",
        "```https://cti-taxii.mitre.org/taxii/```"
      ]
    },
    {
      "cell_type": "code",
      "execution_count": null,
      "metadata": {
        "id": "Za-ln2C8b4qd"
      },
      "outputs": [],
      "source": [
        "from taxii2client.v20 import Server\n",
        "\n",
        "import logging\n",
        "logging.getLogger('taxii2client').setLevel(logging.CRITICAL)\n",
        "server = Server(\"https://cti-taxii.mitre.org/taxii/\")"
      ]
    },
    {
      "cell_type": "markdown",
      "source": [
        "# Retrieve all the data\n",
        "\n",
        "Let's get all the available collections and select the collection that we want to work with"
      ],
      "metadata": {
        "id": "svrD8jbO2pwu"
      }
    },
    {
      "cell_type": "code",
      "execution_count": null,
      "metadata": {
        "id": "kWbbw97pcBXM"
      },
      "outputs": [],
      "source": [
        "api_root = server.api_roots[0]\n",
        "for idx, collection in enumerate(api_root.collections):\n",
        "    print(f\"[{idx}] {collection.title} -> {collection.description}\")"
      ]
    },
    {
      "cell_type": "markdown",
      "source": [
        "Make a conscious decision on the collection we want to work with"
      ],
      "metadata": {
        "id": "8mIOKXSW-JY3"
      }
    },
    {
      "cell_type": "code",
      "source": [
        "MITRE_COLLECTION_ID = api_root.collections[3].id"
      ],
      "metadata": {
        "id": "GhzSXcEK-Bn0"
      },
      "execution_count": null,
      "outputs": []
    },
    {
      "cell_type": "markdown",
      "metadata": {
        "id": "Vfd1X8ZId6VT"
      },
      "source": [
        "For the selected collection, actually get the te collection"
      ]
    },
    {
      "cell_type": "code",
      "execution_count": null,
      "metadata": {
        "id": "aEaKVbbqdSca"
      },
      "outputs": [],
      "source": [
        "from stix2 import TAXIICollectionSource, Filter\n",
        "from taxii2client.v20 import Collection\n",
        "\n",
        "ATTACK_STIX_COLLECTIONS = \"https://cti-taxii.mitre.org/stix/collections/\"\n",
        "MITRE_COLLECTION = Collection(ATTACK_STIX_COLLECTIONS + MITRE_COLLECTION_ID + \"/\")\n",
        "MC_DATA = TAXIICollectionSource(MITRE_COLLECTION)"
      ]
    },
    {
      "cell_type": "markdown",
      "metadata": {
        "id": "NkCEDcZkARVu"
      },
      "source": [
        "Also get the mitigation (course of action), detections and technique data. We retreive it as a mapping of unique IDs and human readable names"
      ]
    },
    {
      "cell_type": "code",
      "source": [
        "MC_MITIGATIONS = MC_DATA.query(Filter(\"type\", \"=\", \"course-of-action\"))\n",
        "mc_mitigation_mapping = {}\n",
        "for x in MC_MITIGATIONS:\n",
        "  mc_mitigation_mapping[x['id']] = x['name']"
      ],
      "metadata": {
        "id": "Xk27VsSc0GCf"
      },
      "execution_count": null,
      "outputs": []
    },
    {
      "cell_type": "code",
      "source": [
        "MC_TECHNIQUES = MC_DATA.query(Filter(\"type\", \"=\", \"attack-pattern\"))\n",
        "mc_technique_mapping = {}\n",
        "for x in MC_TECHNIQUES:\n",
        "  mc_technique_mapping[x['id']] = x['name']"
      ],
      "metadata": {
        "id": "hh5W_tiu0Fze"
      },
      "execution_count": null,
      "outputs": []
    },
    {
      "cell_type": "code",
      "source": [
        "MC_DETECTIONS = MC_DATA.query(Filter(\"type\", \"=\", \"x-mitre-data-component\"))\n",
        "mc_detection_mapping = {}\n",
        "for x in MC_DETECTIONS:\n",
        "  mc_detection_mapping[x['id']] = x['name']"
      ],
      "metadata": {
        "id": "P2FbP2ycF-_V"
      },
      "execution_count": null,
      "outputs": []
    },
    {
      "cell_type": "markdown",
      "source": [
        "Let's now get the relation ship between course of actions (coa), detection sources and techniques. We also put the data into a panda dataframe and just for fun we ad the human readable names as well."
      ],
      "metadata": {
        "id": "vW2Y5j4F5oKC"
      }
    },
    {
      "cell_type": "code",
      "source": [
        "import pandas as pd\n",
        "\n",
        "MC_RELATIONS = MC_DATA.query(Filter(\"type\",\"=\",\"relationship\"))\n",
        "\n",
        "mc_structured_data = {'Source':[],'Destination':[],'source_human':[],'target_human':[]}\n",
        "for idx,x in enumerate(MC_RELATIONS):\n",
        "  if 'relationship_type' in x:\n",
        "    if x['relationship_type'] == 'mitigates':\n",
        "      mc_structured_data['Source'].append(x['source_ref'])\n",
        "      mc_structured_data['Destination'].append(x['target_ref'])\n",
        "      mc_structured_data['source_human'].append(mc_mitigation_mapping[x['source_ref']])\n",
        "      mc_structured_data['target_human'].append(mc_technique_mapping[x['target_ref']])\n",
        "    elif x['relationship_type'] == 'detects':\n",
        "      mc_structured_data['Source'].append(x['source_ref'])\n",
        "      mc_structured_data['Destination'].append(x['target_ref'])\n",
        "      mc_structured_data['source_human'].append(mc_detection_mapping[x['source_ref']])\n",
        "      mc_structured_data['target_human'].append(mc_technique_mapping[x['target_ref']])\n",
        "\n",
        "\n",
        "df = pd.DataFrame(data=mc_structured_data)\n",
        "df.head()"
      ],
      "metadata": {
        "id": "yQJ582LhQkes"
      },
      "execution_count": null,
      "outputs": []
    },
    {
      "cell_type": "markdown",
      "metadata": {
        "id": "v9s5DGVqVSHD"
      },
      "source": [
        "# Visualizing all the data\n",
        "\n",
        "A lot of thanks to this information resource ```https://melaniewalsh.github.io/Intro-Cultural-Analytics/06-Network-Analysis/02-Making-Network-Viz-with-Bokeh.html``` excellent explanation and walkthrough on visualizing graph data with bokeh."
      ]
    },
    {
      "cell_type": "code",
      "source": [
        "# https://melaniewalsh.github.io/Intro-Cultural-Analytics/06-Network-Analysis/02-Making-Network-Viz-with-Bokeh.html\n",
        "from bokeh.io import output_notebook, show, save\n",
        "# required to display visuals inline\n",
        "output_notebook()"
      ],
      "metadata": {
        "id": "xmtqJA-YK8_Y"
      },
      "execution_count": null,
      "outputs": []
    },
    {
      "cell_type": "code",
      "source": [
        "from bokeh.core.property_mixins import LineJoin\n",
        "from bokeh.io import output_notebook, show, save\n",
        "from bokeh.models import Range1d, Circle, ColumnDataSource, MultiLine\n",
        "from bokeh.plotting import figure\n",
        "from bokeh.plotting import from_networkx\n",
        "from bokeh.palettes import Blues8, Reds8, Purples8, Oranges8, Viridis8, Spectral8\n",
        "from bokeh.transform import linear_cmap\n",
        "from bokeh.models import EdgesAndLinkedNodes, NodesAndLinkedEdges\n",
        "import networkx as nx\n",
        "\n",
        "\n",
        "DG = nx.from_pandas_edgelist(df, source='Source', target='Destination',create_using=nx.Graph())\n",
        "\n",
        "# set the degrees (connections per node)\n",
        "degrees = dict(nx.degree(DG))\n",
        "nx.set_node_attributes(DG, name='degree', values=degrees)\n",
        "\n",
        "#set the human readable attribute\n",
        "all_mappings = {}\n",
        "all_mappings.update(mc_technique_mapping)\n",
        "all_mappings.update(mc_mitigation_mapping)\n",
        "all_mappings.update(mc_detection_mapping)\n",
        "nx.set_node_attributes(DG,name='human_name',values=all_mappings)\n",
        "\n",
        "#ensure very small degrees are still visible\n",
        "number_to_adjust_by = 5\n",
        "adjusted_node_size = dict([(node, degree+number_to_adjust_by) for node, degree in nx.degree(DG)])\n",
        "nx.set_node_attributes(DG, name='adjusted_node_size', values=adjusted_node_size)\n",
        "\n",
        "# determine type, add attribute\n",
        "node_types = {}\n",
        "for node in DG.nodes:\n",
        "  if node.startswith('attack-pattern'):\n",
        "    node_types[node] = 0\n",
        "  elif node.startswith('course-of-action'):\n",
        "    node_types[node] = 1\n",
        "  else:\n",
        "    node_types[node] = 2\n",
        "\n",
        "#set the node type (attack-pattern,course-of-action,data-source)\n",
        "nx.set_node_attributes(DG, name='node_type', values=node_types)\n",
        "\n",
        "#Choose attributes from G network to size and color by — setting manual size (e.g. 10) or color (e.g. 'skyblue') also allowed\n",
        "size_by_this_attribute = 'adjusted_node_size'\n",
        "color_by_this_attribute = 'node_type'\n",
        "\n",
        "#color_palette = red,green,blue\n",
        "color_palette = ['#FF0000','#00FF00','#0000FF']\n",
        "\n",
        "#Choose colors for node and edge highlighting\n",
        "node_highlight_color = 'white'\n",
        "edge_highlight_color = 'black'\n",
        "\n",
        "#Choose a title!\n",
        "title = 'MITRE Graph Visuals'\n",
        "\n",
        "#Establish which categories will appear when hovering over each node\n",
        "HOVER_TOOLTIPS = [(\"Name\", \"@human_name\"),(\"Degree\", \"@degree\")]\n",
        "\n",
        "#Create a plot — set dimensions, toolbar, and title\n",
        "plot = figure(tooltips = HOVER_TOOLTIPS,\n",
        "              tools=\"pan,wheel_zoom,save,reset\", active_scroll='wheel_zoom',\n",
        "            x_range=Range1d(-10.1, 10.1), y_range=Range1d(-10.1, 10.1), title=title)\n",
        "\n",
        "#Create a network graph object with spring layout\n",
        "# https://networkx.github.io/documentation/networkx-1.9/reference/generated/networkx.drawing.layout.spring_layout.html\n",
        "network_graph = from_networkx(DG, nx.spring_layout, scale=10, center=(0, 0))\n",
        "#network_graph = from_networkx(DG, nx.kamada_kawai_layout, scale=10, center=(0, 0))\n",
        "\n",
        "#Set node sizes and colors according to node degree (color as spectrum of color palette)\n",
        "minimum_value_color = 0\n",
        "maximum_value_color = 2\n",
        "#Set node size and color\n",
        "network_graph.node_renderer.glyph = Circle(size=size_by_this_attribute, fill_color=linear_cmap(color_by_this_attribute, color_palette, minimum_value_color, maximum_value_color))\n",
        "\n",
        "#Set node highlight colors\n",
        "network_graph.node_renderer.hover_glyph = Circle(size=size_by_this_attribute, fill_color=node_highlight_color, line_width=2)\n",
        "network_graph.node_renderer.selection_glyph = Circle(size=size_by_this_attribute, fill_color=node_highlight_color, line_width=2)\n",
        "\n",
        "\n",
        "#Set edge opacity and width\n",
        "network_graph.edge_renderer.glyph = MultiLine(line_alpha=0.5, line_width=1)\n",
        "\n",
        "#Set edge highlight colors\n",
        "network_graph.edge_renderer.selection_glyph = MultiLine(line_color=edge_highlight_color, line_width=2)\n",
        "network_graph.edge_renderer.hover_glyph = MultiLine(line_color=edge_highlight_color, line_width=2)\n",
        "\n",
        "#Highlight nodes and edges\n",
        "network_graph.selection_policy = NodesAndLinkedEdges()\n",
        "network_graph.inspection_policy = NodesAndLinkedEdges()\n",
        "\n",
        "\n",
        "#Add network graph to the plot\n",
        "plot.renderers.append(network_graph)\n",
        "plot.plot_width = 1100\n",
        "plot.plot_height = 550\n",
        "show(plot)\n",
        "#save(plot, filename=f\"{title}.html\")"
      ],
      "metadata": {
        "id": "30nxqDGMLCM5"
      },
      "execution_count": null,
      "outputs": []
    },
    {
      "cell_type": "markdown",
      "source": [
        "# Visualize single techniques\n",
        "\n"
      ],
      "metadata": {
        "id": "mRA-pP4ZviMq"
      }
    },
    {
      "cell_type": "code",
      "source": [
        "from bokeh.core.property_mixins import LineJoin\n",
        "from bokeh.io import output_notebook, show, save\n",
        "from bokeh.models import Range1d, Circle, ColumnDataSource, MultiLine\n",
        "from bokeh.plotting import figure\n",
        "from bokeh.plotting import from_networkx\n",
        "from bokeh.palettes import Blues8, Reds8, Purples8, Oranges8, Viridis8, Spectral8\n",
        "from bokeh.transform import linear_cmap\n",
        "from bokeh.models import EdgesAndLinkedNodes, NodesAndLinkedEdges\n",
        "import networkx as nx\n",
        "\n",
        "# display all rows (be careful)\n",
        "pd.set_option('display.max_rows', None)\n",
        "# avoid line breaks\n",
        "pd.set_option('display.expand_frame_repr', False)\n",
        "\n",
        "# Techniques of pipedream/incontroller\n",
        "#df_filtered = df[df['target_human'].isin(['Remote Services','Command-Line Interface','Execution through API','Scripting','User Execution',\n",
        "#                                          'System Firmware','Valid Accounts','Exploitation for Privilege Escalation','Rootkit','Network Sniffing',\n",
        "#                                          'Remote System Discovery','Remote System Information Discovery','Default Credentials','Lateral Tool Transfer',\n",
        "#                                          'Program Download','Remote Services','Valid Accounts','Detect Operating Mode','Point & Tag Identification',\n",
        "#                                          'Program Upload'])]\n",
        "\n",
        "df_filtered = df[df['target_human'].isin(['Default Credentials','Valid Accounts'])]\n",
        "print(df_filtered)\n",
        "DG = nx.from_pandas_edgelist(df_filtered, source='Source', target='Destination',create_using=nx.Graph())\n",
        "\n",
        "# set the degrees (connections per node)\n",
        "degrees = dict(nx.degree(DG))\n",
        "nx.set_node_attributes(DG, name='degree', values=degrees)\n",
        "\n",
        "#set the human readable attribute\n",
        "all_mappings = {}\n",
        "all_mappings.update(mc_technique_mapping)\n",
        "all_mappings.update(mc_mitigation_mapping)\n",
        "all_mappings.update(mc_detection_mapping)\n",
        "nx.set_node_attributes(DG,name='human_name',values=all_mappings)\n",
        "\n",
        "#ensure very small degrees are still visible\n",
        "number_to_adjust_by = 5\n",
        "adjusted_node_size = dict([(node, degree+number_to_adjust_by) for node, degree in nx.degree(DG)])\n",
        "nx.set_node_attributes(DG, name='adjusted_node_size', values=adjusted_node_size)\n",
        "\n",
        "# determine type, add attribute\n",
        "node_types = {}\n",
        "for node in DG.nodes:\n",
        "  if node.startswith('attack-pattern'):\n",
        "    node_types[node] = 0\n",
        "  elif node.startswith('course-of-action'):\n",
        "    node_types[node] = 1\n",
        "  else:\n",
        "    node_types[node] = 2\n",
        "\n",
        "#set the node type (attack-pattern,course-of-action,data-source)\n",
        "nx.set_node_attributes(DG, name='node_type', values=node_types)\n",
        "\n",
        "#Choose attributes from G network to size and color by — setting manual size (e.g. 10) or color (e.g. 'skyblue') also allowed\n",
        "size_by_this_attribute = 'adjusted_node_size'\n",
        "color_by_this_attribute = 'node_type'\n",
        "\n",
        "#color_palette = red,green,blue\n",
        "color_palette = ['#FF0000','#00FF00','#0000FF']\n",
        "\n",
        "#Choose colors for node and edge highlighting\n",
        "node_highlight_color = 'white'\n",
        "edge_highlight_color = 'black'\n",
        "\n",
        "#Choose a title!\n",
        "title = 'MITRE Graph Visuals'\n",
        "\n",
        "#Establish which categories will appear when hovering over each node\n",
        "HOVER_TOOLTIPS = [(\"Name\", \"@human_name\"),(\"Degree\", \"@degree\")]\n",
        "\n",
        "#Create a plot — set dimensions, toolbar, and title\n",
        "plot = figure(tooltips = HOVER_TOOLTIPS,\n",
        "              tools=\"pan,wheel_zoom,save,reset\", active_scroll='wheel_zoom',\n",
        "            x_range=Range1d(-10.1, 10.1), y_range=Range1d(-10.1, 10.1), title=title)\n",
        "\n",
        "#Create a network graph object with spring layout\n",
        "# https://networkx.github.io/documentation/networkx-1.9/reference/generated/networkx.drawing.layout.spring_layout.html\n",
        "network_graph = from_networkx(DG, nx.spring_layout, scale=10, center=(0, 0))\n",
        "#network_graph = from_networkx(DG, nx.kamada_kawai_layout, scale=10, center=(0, 0))\n",
        "\n",
        "#Set node sizes and colors according to node degree (color as spectrum of color palette)\n",
        "minimum_value_color = 0\n",
        "maximum_value_color = 2\n",
        "#Set node size and color\n",
        "network_graph.node_renderer.glyph = Circle(size=size_by_this_attribute, fill_color=linear_cmap(color_by_this_attribute, color_palette, minimum_value_color, maximum_value_color))\n",
        "\n",
        "#Set node highlight colors\n",
        "network_graph.node_renderer.hover_glyph = Circle(size=size_by_this_attribute, fill_color=node_highlight_color, line_width=2)\n",
        "network_graph.node_renderer.selection_glyph = Circle(size=size_by_this_attribute, fill_color=node_highlight_color, line_width=2)\n",
        "\n",
        "\n",
        "#Set edge opacity and width\n",
        "network_graph.edge_renderer.glyph = MultiLine(line_alpha=0.5, line_width=1)\n",
        "\n",
        "#Set edge highlight colors\n",
        "network_graph.edge_renderer.selection_glyph = MultiLine(line_color=edge_highlight_color, line_width=2)\n",
        "network_graph.edge_renderer.hover_glyph = MultiLine(line_color=edge_highlight_color, line_width=2)\n",
        "\n",
        "#Highlight nodes and edges\n",
        "network_graph.selection_policy = NodesAndLinkedEdges()\n",
        "network_graph.inspection_policy = NodesAndLinkedEdges()\n",
        "\n",
        "\n",
        "#Add network graph to the plot\n",
        "plot.renderers.append(network_graph)\n",
        "plot.plot_width = 1100\n",
        "plot.plot_height = 550\n",
        "show(plot)\n",
        "#save(plot, filename=f\"{title}.html\")"
      ],
      "metadata": {
        "id": "r-uB-W4Vvh7L"
      },
      "execution_count": null,
      "outputs": []
    },
    {
      "cell_type": "markdown",
      "source": [
        "# References\n",
        "\n",
        "* https://melaniewalsh.github.io/Intro-Cultural-Analytics/welcome.html\n",
        "* Attack CTI\n",
        "\t* https://attackcti.com/intro.html\n",
        "\t* https://github.com/OTRF/ATTACK-Python-Client/blob/f96f9d6094afc657682ccbc1988bae5db39552e9/attackcti/attack_api.py\n",
        "* MITRE Stix / Taxii\n",
        "\t* https://github.com/mitre/cti/blob/master/USAGE.md\n",
        "\t* https://github.com/mitre-attack/attack-stix-data\n",
        "\t* https://github.com/oasis-open/cti-python-stix2"
      ],
      "metadata": {
        "id": "QkayYpMdmokf"
      }
    }
  ],
  "metadata": {
    "colab": {
      "collapsed_sections": [],
      "provenance": []
    },
    "kernelspec": {
      "display_name": "Python 3",
      "name": "python3"
    },
    "language_info": {
      "name": "python"
    }
  },
  "nbformat": 4,
  "nbformat_minor": 0
}
